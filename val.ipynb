{
 "cells": [
  {
   "cell_type": "code",
   "execution_count": 3,
   "metadata": {},
   "outputs": [],
   "source": [
    "import cv2\n",
    "import matplotlib.pyplot as plt\n",
    "import pandas as pd\n",
    "from ultralytics import YOLO"
   ]
  },
  {
   "cell_type": "code",
   "execution_count": 4,
   "metadata": {},
   "outputs": [
    {
     "name": "stderr",
     "output_type": "stream",
     "text": [
      "Ultralytics YOLOv8.0.138 🚀 Python-3.9.17 torch-2.0.1 CUDA:1 (Tesla P100-PCIE-16GB, 16281MiB)\n",
      "Model summary (fused): 168 layers, 3006428 parameters, 0 gradients\n",
      "\u001b[34m\u001b[1mval: \u001b[0mScanning /home/soonjynn/thesis/piece-detection/Checkers-Piece-Detection-1/valid/labels... 3 images, 0 backgrounds, 0 corrupt: 100%|██████████| 3/3 [00:00<00:00, 482.66it/s]\n",
      "\u001b[34m\u001b[1mval: \u001b[0mNew cache created: /home/soonjynn/thesis/piece-detection/Checkers-Piece-Detection-1/valid/labels.cache\n",
      "                 Class     Images  Instances      Box(P          R      mAP50  mAP50-95): 100%|██████████| 1/1 [00:00<00:00, 12.75it/s]\n",
      "                   all          3         56      0.991          1      0.995      0.806\n",
      "                     G          3         14      0.993          1      0.995      0.803\n",
      "                     R          3         13      0.992          1      0.995      0.806\n",
      "                     g          3         15      0.991          1      0.995      0.807\n",
      "                     r          3         14      0.987          1      0.995      0.806\n",
      "Speed: 0.8ms preprocess, 12.8ms inference, 0.0ms loss, 2.8ms postprocess per image\n",
      "Results saved to \u001b[1mruns/detect/val2\u001b[0m\n"
     ]
    }
   ],
   "source": [
    "model = YOLO('runs/detect/n_test/weights/best.pt')\n",
    "metrics = model.val(device=1)"
   ]
  },
  {
   "cell_type": "code",
   "execution_count": 5,
   "metadata": {},
   "outputs": [
    {
     "name": "stdout",
     "output_type": "stream",
     "text": [
      "0.8056525548955845\n",
      "0.995\n",
      "0.995\n",
      "[    0.80343     0.80626     0.80657     0.80634]\n"
     ]
    }
   ],
   "source": [
    "print(metrics.box.map)\n",
    "print(metrics.box.map50)\n",
    "print(metrics.box.map75)"
   ]
  },
  {
   "cell_type": "code",
   "execution_count": null,
   "metadata": {},
   "outputs": [],
   "source": []
  }
 ],
 "metadata": {
  "kernelspec": {
   "display_name": "d2l",
   "language": "python",
   "name": "python3"
  },
  "language_info": {
   "codemirror_mode": {
    "name": "ipython",
    "version": 3
   },
   "file_extension": ".py",
   "mimetype": "text/x-python",
   "name": "python",
   "nbconvert_exporter": "python",
   "pygments_lexer": "ipython3",
   "version": "3.9.17"
  },
  "orig_nbformat": 4
 },
 "nbformat": 4,
 "nbformat_minor": 2
}
